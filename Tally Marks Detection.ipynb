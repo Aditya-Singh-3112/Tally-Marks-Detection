{
 "cells": [
  {
   "cell_type": "markdown",
   "id": "7606deb6",
   "metadata": {},
   "source": [
    "# Tally Marks Detection"
   ]
  },
  {
   "cell_type": "markdown",
   "id": "dc35097e",
   "metadata": {},
   "source": [
    "### Importing required libraries"
   ]
  },
  {
   "cell_type": "markdown",
   "id": "e3786ff4",
   "metadata": {},
   "source": [
    "I have used tensorflow keras to create the model.\n",
    "Pandas is required to create the dataset.\n",
    "matplotlib and seaborn are used to visualise the data and training and validation accuracy."
   ]
  },
  {
   "cell_type": "code",
   "execution_count": 4,
   "id": "e8991127",
   "metadata": {},
   "outputs": [],
   "source": [
    "import numpy as np\n",
    "import tensorflow as tf\n",
    "import pandas as pd\n",
    "import os\n",
    "import seaborn as sns\n",
    "import matplotlib.pyplot as plt\n",
    "from tensorflow.keras.preprocessing.image import ImageDataGenerator, img_to_array, load_img\n",
    "from tensorflow.keras.models import Model\n",
    "from tensorflow.keras.layers import Conv2D, GlobalAveragePooling2D, MaxPool2D, Flatten, Dense, Activation, Input\n",
    "from tensorflow.keras.losses import CategoricalCrossentropy\n",
    "from tensorflow.keras.optimizers import Adam\n",
    "from sklearn.model_selection import train_test_split"
   ]
  },
  {
   "cell_type": "markdown",
   "id": "1e4d1676",
   "metadata": {},
   "source": [
    "### Defining required paths"
   ]
  },
  {
   "cell_type": "markdown",
   "id": "bcae5caa",
   "metadata": {},
   "source": [
    "Setting the path for the images to create the dataset"
   ]
  },
  {
   "cell_type": "code",
   "execution_count": 5,
   "id": "dbaf41ee",
   "metadata": {},
   "outputs": [],
   "source": [
    "I_path = './1/'\n",
    "II_path = './2/'\n",
    "III_path = './3/'\n",
    "IV_path = './4/'\n",
    "V_path = './5/'\n",
    "X_path = './X/'"
   ]
  },
  {
   "cell_type": "markdown",
   "id": "27a00b79",
   "metadata": {},
   "source": [
    "### Loading the data"
   ]
  },
  {
   "cell_type": "markdown",
   "id": "fad96f74",
   "metadata": {},
   "source": [
    "In this block I have used the images to create the dataset for traing and testing the model"
   ]
  },
  {
   "cell_type": "code",
   "execution_count": 6,
   "id": "7c553092",
   "metadata": {},
   "outputs": [
    {
     "data": {
      "text/html": [
       "<div>\n",
       "<style scoped>\n",
       "    .dataframe tbody tr th:only-of-type {\n",
       "        vertical-align: middle;\n",
       "    }\n",
       "\n",
       "    .dataframe tbody tr th {\n",
       "        vertical-align: top;\n",
       "    }\n",
       "\n",
       "    .dataframe thead th {\n",
       "        text-align: right;\n",
       "    }\n",
       "</style>\n",
       "<table border=\"1\" class=\"dataframe\">\n",
       "  <thead>\n",
       "    <tr style=\"text-align: right;\">\n",
       "      <th></th>\n",
       "      <th>images</th>\n",
       "      <th>labels</th>\n",
       "    </tr>\n",
       "  </thead>\n",
       "  <tbody>\n",
       "    <tr>\n",
       "      <th>35197</th>\n",
       "      <td>./X/X.3963.jpg</td>\n",
       "      <td>10</td>\n",
       "    </tr>\n",
       "    <tr>\n",
       "      <th>10863</th>\n",
       "      <td>./2/2.680v.jpg</td>\n",
       "      <td>2</td>\n",
       "    </tr>\n",
       "    <tr>\n",
       "      <th>31306</th>\n",
       "      <td>./5/5.7867.jpg</td>\n",
       "      <td>6</td>\n",
       "    </tr>\n",
       "    <tr>\n",
       "      <th>31835</th>\n",
       "      <td>./5/5.937.jpg</td>\n",
       "      <td>6</td>\n",
       "    </tr>\n",
       "    <tr>\n",
       "      <th>11396</th>\n",
       "      <td>./2/2.800h.jpg</td>\n",
       "      <td>2</td>\n",
       "    </tr>\n",
       "    <tr>\n",
       "      <th>...</th>\n",
       "      <td>...</td>\n",
       "      <td>...</td>\n",
       "    </tr>\n",
       "    <tr>\n",
       "      <th>6644</th>\n",
       "      <td>./2/2.1091h.jpg</td>\n",
       "      <td>2</td>\n",
       "    </tr>\n",
       "    <tr>\n",
       "      <th>2021</th>\n",
       "      <td>./1/1.1455o.jpg</td>\n",
       "      <td>1</td>\n",
       "    </tr>\n",
       "    <tr>\n",
       "      <th>33286</th>\n",
       "      <td>./X/X.2242.jpg</td>\n",
       "      <td>10</td>\n",
       "    </tr>\n",
       "    <tr>\n",
       "      <th>1902</th>\n",
       "      <td>./1/1.1428r.jpg</td>\n",
       "      <td>1</td>\n",
       "    </tr>\n",
       "    <tr>\n",
       "      <th>37519</th>\n",
       "      <td>./X/X.6052.jpg</td>\n",
       "      <td>10</td>\n",
       "    </tr>\n",
       "  </tbody>\n",
       "</table>\n",
       "<p>38731 rows × 2 columns</p>\n",
       "</div>"
      ],
      "text/plain": [
       "                images labels\n",
       "35197   ./X/X.3963.jpg     10\n",
       "10863   ./2/2.680v.jpg      2\n",
       "31306   ./5/5.7867.jpg      6\n",
       "31835    ./5/5.937.jpg      6\n",
       "11396   ./2/2.800h.jpg      2\n",
       "...                ...    ...\n",
       "6644   ./2/2.1091h.jpg      2\n",
       "2021   ./1/1.1455o.jpg      1\n",
       "33286   ./X/X.2242.jpg     10\n",
       "1902   ./1/1.1428r.jpg      1\n",
       "37519   ./X/X.6052.jpg     10\n",
       "\n",
       "[38731 rows x 2 columns]"
      ]
     },
     "execution_count": 6,
     "metadata": {},
     "output_type": "execute_result"
    }
   ],
   "source": [
    "I_list = []\n",
    "I_lbl_list = []\n",
    "I_df = pd.DataFrame()\n",
    "for i in os.listdir(I_path):\n",
    "    img  = os.path.join(I_path + i)\n",
    "    I_list.append(img)\n",
    "    I_lbl_list.append('1')\n",
    "I_df['images'] = I_list\n",
    "I_df['labels'] = I_lbl_list\n",
    "\n",
    "II_list = []\n",
    "II_lbl_list = []\n",
    "II_df = pd.DataFrame()\n",
    "for i in os.listdir(II_path):\n",
    "    img =  os.path.join(II_path + i)\n",
    "    II_list.append(img)\n",
    "    II_lbl_list.append('2')\n",
    "II_df['images'] = II_list\n",
    "II_df['labels'] = II_lbl_list\n",
    "\n",
    "III_list = []\n",
    "III_lbl_list = []\n",
    "III_df = pd.DataFrame()\n",
    "for i in os.listdir(III_path):\n",
    "    img =  os.path.join(III_path + i)\n",
    "    III_list.append(img)\n",
    "    III_lbl_list.append('3')\n",
    "III_df['images'] = III_list\n",
    "III_df['labels'] = III_lbl_list\n",
    "    \n",
    "IV_list = []\n",
    "IV_lbl_list = []\n",
    "IV_df = pd.DataFrame()\n",
    "for i in os.listdir(IV_path):\n",
    "    img = os.path.join(IV_path + i)\n",
    "    IV_list.append(img)\n",
    "    IV_lbl_list.append('4')\n",
    "IV_df['images'] = IV_list\n",
    "IV_df['labels'] = IV_lbl_list\n",
    "    \n",
    "V_list = []\n",
    "V_lbl_list = []\n",
    "V_df = pd.DataFrame()\n",
    "for i in os.listdir(V_path):\n",
    "    img = os.path.join(V_path + i)\n",
    "    V_list.append(img)\n",
    "    V_lbl_list.append('6')\n",
    "V_df['images'] = V_list\n",
    "V_df['labels'] = V_lbl_list\n",
    "    \n",
    "X_list = []\n",
    "X_lbl_list = []\n",
    "X_df = pd.DataFrame()\n",
    "for i in os.listdir(X_path):\n",
    "    img = os.path.join(X_path + i)\n",
    "    X_list.append(img)\n",
    "    X_lbl_list.append('10')\n",
    "X_df['images'] = X_list\n",
    "X_df['labels'] = X_lbl_list\n",
    "\n",
    "df = pd.concat([I_df, II_df, III_df, IV_df, V_df, X_df], axis = 0, ignore_index = True)\n",
    "df = df.sample(frac = 1)\n",
    "df"
   ]
  },
  {
   "cell_type": "markdown",
   "id": "e307a103",
   "metadata": {},
   "source": [
    "### Visualisig the data"
   ]
  },
  {
   "cell_type": "code",
   "execution_count": 7,
   "id": "3c1fa8b0",
   "metadata": {},
   "outputs": [
    {
     "data": {
      "text/plain": [
       "<AxesSubplot: xlabel='labels', ylabel='count'>"
      ]
     },
     "execution_count": 7,
     "metadata": {},
     "output_type": "execute_result"
    },
    {
     "data": {
      "image/png": "[encoded data removed]",
      "text/plain": [
       "<Figure size 640x480 with 1 Axes>"
      ]
     },
     "metadata": {},
     "output_type": "display_data"
    }
   ],
   "source": [
    "sns.countplot(x = df['labels'])"
   ]
  },
  {
   "cell_type": "markdown",
   "id": "5ea78c27",
   "metadata": {},
   "source": [
    "### Splitting the data"
   ]
  },
  {
   "cell_type": "markdown",
   "id": "87bb41ad",
   "metadata": {},
   "source": [
    "I have split the data in roughly a 60%, 20%, 20% split. Train set being 60% and test and validation sets being 20% each"
   ]
  },
  {
   "cell_type": "code",
   "execution_count": 8,
   "id": "be0cc242",
   "metadata": {},
   "outputs": [],
   "source": [
    "x_train = df.iloc[0:24000,]\n",
    "x_val = df.iloc[24001:31800,]\n",
    "x_test = df.iloc[31801:,]"
   ]
  },
  {
   "cell_type": "markdown",
   "id": "f17a5734",
   "metadata": {},
   "source": [
    "### Creating the dataset"
   ]
  },
  {
   "cell_type": "code",
   "execution_count": 9,
   "id": "59ae1916",
   "metadata": {},
   "outputs": [
    {
     "name": "stdout",
     "output_type": "stream",
     "text": [
      "Found 24000 validated image filenames belonging to 6 classes.\n",
      "Found 7799 validated image filenames belonging to 6 classes.\n",
      "Found 6930 validated image filenames belonging to 6 classes.\n"
     ]
    }
   ],
   "source": [
    "train_ds = ImageDataGenerator(rescale = 1./255, rotation_range=40, width_shift_range=0.2, height_shift_range=0.2,\n",
    "                              shear_range=0.2, zoom_range=0.2, horizontal_flip=True, fill_mode=\"nearest\")\n",
    "\n",
    "train_ds = train_ds.flow_from_dataframe(dataframe=x_train, x_col='images', y_col=\"labels\", target_size=(24, 24),\n",
    "                                        batch_size = 32, class_mode = \"categorical\", color_mode = 'grayscale')\n",
    "\n",
    "val_ds = ImageDataGenerator(rescale = 1./255)\n",
    "val_ds = val_ds.flow_from_dataframe(dataframe=x_val, x_col=\"images\", y_col=\"labels\", target_size=(24, 24),\n",
    "                                    batch_size = 32, class_mode = \"categorical\", color_mode = 'grayscale')\n",
    "\n",
    "test_ds = ImageDataGenerator(rescale = 1./255)\n",
    "test_ds = test_ds.flow_from_dataframe(dataframe=x_test, x_col = \"images\", y_col = \"labels\", target_size = (24, 24),\n",
    "                                          class_mode = \"categorical\",color_mode = 'grayscale', batch_size = 32)"
   ]
  },
  {
   "cell_type": "markdown",
   "id": "e7a9bfb6",
   "metadata": {},
   "source": [
    "### Creating the model"
   ]
  },
  {
   "cell_type": "code",
   "execution_count": 10,
   "id": "969d3b85",
   "metadata": {},
   "outputs": [],
   "source": [
    "def modelfn(input_shape = (24,24)):\n",
    "    x_input = Input(input_shape)\n",
    "    x = x_input\n",
    "    x = Conv2D(64, kernel_size = (3,3), strides = (1,1), padding = 'same')(x)\n",
    "    x = Activation('relu')(x)\n",
    "    x = Conv2D(32, kernel_size = (3,3), strides = (1,1), padding = 'same')(x)\n",
    "    x = Activation('relu')(x)\n",
    "    x = Conv2D(16, kernel_size = (3,3), strides = (1,1), padding = 'same')(x)\n",
    "    x = Activation('relu')(x)\n",
    "    x = MaxPool2D((2,2))(x)\n",
    "    x = Flatten()(x)\n",
    "    x = Dense(16)(x)\n",
    "    x = Activation('relu')(x)\n",
    "    x = Dense(8)(x)\n",
    "    x = Activation('relu')(x)\n",
    "    x = Dense(6)(x)\n",
    "    x = Activation('softmax')(x)\n",
    "    \n",
    "    model = Model(inputs = x_input, outputs = x, name = 'modelfn')\n",
    "    return model"
   ]
  },
  {
   "cell_type": "code",
   "execution_count": 11,
   "id": "96a06a19",
   "metadata": {},
   "outputs": [],
   "source": [
    "lossfn = CategoricalCrossentropy()\n",
    "optimizerfn = Adam(0.0001)"
   ]
  },
  {
   "cell_type": "code",
   "execution_count": 12,
   "id": "ebffc081",
   "metadata": {},
   "outputs": [],
   "source": [
    "model = modelfn(input_shape = (24,24,1))"
   ]
  },
  {
   "cell_type": "code",
   "execution_count": 13,
   "id": "881a8364",
   "metadata": {},
   "outputs": [],
   "source": [
    "model.compile(optimizer = optimizerfn, loss = lossfn, metrics = ['accuracy'])"
   ]
  },
  {
   "cell_type": "markdown",
   "id": "308c554e",
   "metadata": {},
   "source": [
    "### Model summary"
   ]
  },
  {
   "cell_type": "code",
   "execution_count": 14,
   "id": "1f4ebd06",
   "metadata": {},
   "outputs": [
    {
     "name": "stdout",
     "output_type": "stream",
     "text": [
      "Model: \"modelfn\"\n",
      "_________________________________________________________________\n",
      " Layer (type)                Output Shape              Param #   \n",
      "=================================================================\n",
      " input_1 (InputLayer)        [(None, 24, 24, 1)]       0         \n",
      "                                                                 \n",
      " conv2d (Conv2D)             (None, 24, 24, 64)        640       \n",
      "                                                                 \n",
      " activation (Activation)     (None, 24, 24, 64)        0         \n",
      "                                                                 \n",
      " conv2d_1 (Conv2D)           (None, 24, 24, 32)        18464     \n",
      "                                                                 \n",
      " activation_1 (Activation)   (None, 24, 24, 32)        0         \n",
      "                                                                 \n",
      " conv2d_2 (Conv2D)           (None, 24, 24, 16)        4624      \n",
      "                                                                 \n",
      " activation_2 (Activation)   (None, 24, 24, 16)        0         \n",
      "                                                                 \n",
      " max_pooling2d (MaxPooling2D  (None, 12, 12, 16)       0         \n",
      " )                                                               \n",
      "                                                                 \n",
      " flatten (Flatten)           (None, 2304)              0         \n",
      "                                                                 \n",
      " dense (Dense)               (None, 16)                36880     \n",
      "                                                                 \n",
      " activation_3 (Activation)   (None, 16)                0         \n",
      "                                                                 \n",
      " dense_1 (Dense)             (None, 8)                 136       \n",
      "                                                                 \n",
      " activation_4 (Activation)   (None, 8)                 0         \n",
      "                                                                 \n",
      " dense_2 (Dense)             (None, 6)                 54        \n",
      "                                                                 \n",
      " activation_5 (Activation)   (None, 6)                 0         \n",
      "                                                                 \n",
      "=================================================================\n",
      "Total params: 60,798\n",
      "Trainable params: 60,798\n",
      "Non-trainable params: 0\n",
      "_________________________________________________________________\n"
     ]
    }
   ],
   "source": [
    "model.summary()"
   ]
  },
  {
   "cell_type": "markdown",
   "id": "35d547f2",
   "metadata": {},
   "source": [
    "### Training the model"
   ]
  },
  {
   "cell_type": "code",
   "execution_count": 15,
   "id": "c08194f7",
   "metadata": {},
   "outputs": [
    {
     "name": "stdout",
     "output_type": "stream",
     "text": [
      "Epoch 1/25\n",
      "750/750 [==============================] - 90s 119ms/step - loss: 1.4261 - accuracy: 0.3831 - val_loss: 0.7862 - val_accuracy: 0.6633\n",
      "Epoch 2/25\n",
      "750/750 [==============================] - 53s 71ms/step - loss: 0.7529 - accuracy: 0.7191 - val_loss: 0.3747 - val_accuracy: 0.9119\n",
      "Epoch 3/25\n",
      "750/750 [==============================] - 53s 70ms/step - loss: 0.5522 - accuracy: 0.8195 - val_loss: 0.4064 - val_accuracy: 0.8513\n",
      "Epoch 4/25\n",
      "750/750 [==============================] - 54s 72ms/step - loss: 0.4587 - accuracy: 0.8492 - val_loss: 0.2512 - val_accuracy: 0.9308\n",
      "Epoch 5/25\n",
      "750/750 [==============================] - 55s 73ms/step - loss: 0.4056 - accuracy: 0.8657 - val_loss: 0.2561 - val_accuracy: 0.9272\n",
      "Epoch 6/25\n",
      "750/750 [==============================] - 56s 74ms/step - loss: 0.3725 - accuracy: 0.8734 - val_loss: 0.2528 - val_accuracy: 0.9219\n",
      "Epoch 7/25\n",
      "750/750 [==============================] - 55s 74ms/step - loss: 0.3501 - accuracy: 0.8835 - val_loss: 0.2002 - val_accuracy: 0.9429\n",
      "Epoch 8/25\n",
      "750/750 [==============================] - 54s 72ms/step - loss: 0.3260 - accuracy: 0.8914 - val_loss: 0.2261 - val_accuracy: 0.9273\n",
      "Epoch 9/25\n",
      "750/750 [==============================] - 54s 72ms/step - loss: 0.3175 - accuracy: 0.8922 - val_loss: 0.1832 - val_accuracy: 0.9476\n",
      "Epoch 10/25\n",
      "750/750 [==============================] - 55s 73ms/step - loss: 0.2902 - accuracy: 0.9021 - val_loss: 0.1623 - val_accuracy: 0.9504\n",
      "Epoch 11/25\n",
      "750/750 [==============================] - 53s 71ms/step - loss: 0.2805 - accuracy: 0.9029 - val_loss: 0.2314 - val_accuracy: 0.9273\n",
      "Epoch 12/25\n",
      "750/750 [==============================] - 53s 71ms/step - loss: 0.2838 - accuracy: 0.9021 - val_loss: 0.1727 - val_accuracy: 0.9461\n",
      "Epoch 13/25\n",
      "750/750 [==============================] - 53s 71ms/step - loss: 0.2640 - accuracy: 0.9115 - val_loss: 0.2607 - val_accuracy: 0.9113\n",
      "Epoch 14/25\n",
      "750/750 [==============================] - 53s 70ms/step - loss: 0.2599 - accuracy: 0.9120 - val_loss: 0.2020 - val_accuracy: 0.9356\n",
      "Epoch 15/25\n",
      "750/750 [==============================] - 53s 71ms/step - loss: 0.2463 - accuracy: 0.9158 - val_loss: 0.1549 - val_accuracy: 0.9514\n",
      "Epoch 16/25\n",
      "750/750 [==============================] - 53s 71ms/step - loss: 0.2453 - accuracy: 0.9159 - val_loss: 0.1633 - val_accuracy: 0.9500\n",
      "Epoch 17/25\n",
      "750/750 [==============================] - 53s 71ms/step - loss: 0.2424 - accuracy: 0.9182 - val_loss: 0.1431 - val_accuracy: 0.9554\n",
      "Epoch 18/25\n",
      "750/750 [==============================] - 53s 71ms/step - loss: 0.2343 - accuracy: 0.9203 - val_loss: 0.2029 - val_accuracy: 0.9254\n",
      "Epoch 19/25\n",
      "750/750 [==============================] - 53s 71ms/step - loss: 0.2294 - accuracy: 0.9213 - val_loss: 0.1390 - val_accuracy: 0.9559\n",
      "Epoch 20/25\n",
      "750/750 [==============================] - 53s 71ms/step - loss: 0.2211 - accuracy: 0.9263 - val_loss: 0.1575 - val_accuracy: 0.9503\n",
      "Epoch 21/25\n",
      "750/750 [==============================] - 53s 70ms/step - loss: 0.2281 - accuracy: 0.9222 - val_loss: 0.1394 - val_accuracy: 0.9547\n",
      "Epoch 22/25\n",
      "750/750 [==============================] - 53s 70ms/step - loss: 0.2198 - accuracy: 0.9267 - val_loss: 0.2125 - val_accuracy: 0.9306\n",
      "Epoch 23/25\n",
      "750/750 [==============================] - 53s 70ms/step - loss: 0.2110 - accuracy: 0.9292 - val_loss: 0.1705 - val_accuracy: 0.9464\n",
      "Epoch 24/25\n",
      "750/750 [==============================] - 53s 70ms/step - loss: 0.2042 - accuracy: 0.9313 - val_loss: 0.2116 - val_accuracy: 0.9224\n",
      "Epoch 25/25\n",
      "750/750 [==============================] - 53s 71ms/step - loss: 0.2055 - accuracy: 0.9302 - val_loss: 0.2014 - val_accuracy: 0.9354\n"
     ]
    }
   ],
   "source": [
    "history = model.fit(train_ds, epochs = 25, validation_data=val_ds)"
   ]
  },
  {
   "cell_type": "markdown",
   "id": "8242a773",
   "metadata": {},
   "source": [
    "### Visualising loss and accuracy"
   ]
  },
  {
   "cell_type": "code",
   "execution_count": 16,
   "id": "7b1f615a",
   "metadata": {},
   "outputs": [
    {
     "data": {
      "image/png": "[encoded data removed]",
      "text/plain": [
       "<Figure size 1200x400 with 2 Axes>"
      ]
     },
     "metadata": {},
     "output_type": "display_data"
    }
   ],
   "source": [
    "fig, axes = plt.subplots(1, 2, figsize = (12, 4))\n",
    "\n",
    "sns.lineplot(x = range(len(history.history[\"loss\"])), y = history.history[\"loss\"], ax = axes[0], label = \"Training Loss\")\n",
    "sns.lineplot(x = range(len(history.history[\"loss\"])), y = history.history[\"val_loss\"], ax = axes[0], label = \"Validation Loss\")\n",
    "\n",
    "sns.lineplot(x = range(len(history.history[\"accuracy\"])), y = history.history[\"accuracy\"], ax = axes[1], label = \"Training Accuracy\")\n",
    "sns.lineplot(x = range(len(history.history[\"accuracy\"])), y = history.history[\"val_accuracy\"], ax = axes[1], label = \"Validation Accuracy\")\n",
    "axes[0].set_title(\"Loss\"); axes[1].set_title(\"Accuracy\")\n",
    "\n",
    "sns.despine()\n",
    "plt.show()"
   ]
  },
  {
   "cell_type": "markdown",
   "id": "65d17723",
   "metadata": {},
   "source": [
    "### Testing the model"
   ]
  },
  {
   "cell_type": "markdown",
   "id": "1c076512",
   "metadata": {},
   "source": [
    "The model achieved an accuracy of 93% in the test set"
   ]
  },
  {
   "cell_type": "code",
   "execution_count": 17,
   "id": "99ad964a",
   "metadata": {},
   "outputs": [
    {
     "name": "stdout",
     "output_type": "stream",
     "text": [
      "9/9 [==============================] - 0s 43ms/step - loss: 0.2005 - accuracy: 0.9340\n",
      "Test accuracy =  0.93\n"
     ]
    }
   ],
   "source": [
    "test_loss, test_acc = model.evaluate(test_ds, steps = 9)\n",
    "print(\"Test accuracy = \", round(test_acc, 2))"
   ]
  },
  {
   "cell_type": "markdown",
   "id": "3b1b1955",
   "metadata": {},
   "source": [
    "### Saving the model"
   ]
  },
  {
   "cell_type": "code",
   "execution_count": 18,
   "id": "c3d41dd2",
   "metadata": {},
   "outputs": [],
   "source": [
    "model.save('tally_marks_detection.h5')"
   ]
  }
 ],
 "metadata": {
  "kernelspec": {
   "display_name": "Python 3 (ipykernel)",
   "language": "python",
   "name": "python3"
  },
  "language_info": {
   "codemirror_mode": {
    "name": "ipython",
    "version": 3
   },
   "file_extension": ".py",
   "mimetype": "text/x-python",
   "name": "python",
   "nbconvert_exporter": "python",
   "pygments_lexer": "ipython3",
   "version": "3.10.8"
  }
 },
 "nbformat": 4,
 "nbformat_minor": 5
}
